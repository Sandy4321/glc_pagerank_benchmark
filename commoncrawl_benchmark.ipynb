{
 "cells": [
  {
   "cell_type": "markdown",
   "metadata": {},
   "source": [
    "# GraphLab Create PageRank Benchmark - CommonCrawl 2012 Dataset\n",
    "## AWS EC2 Benchmark Notebook\n",
    "This notebook should be used when running the GraphLab Create PageRank Benchmark [over an EC2 instance as described here](http://www.qwantz.com). If you are using a different environment"
   ]
  },
  {
   "cell_type": "markdown",
   "metadata": {},
   "source": [
    "### Initialize and mount SSDs that will be used as cache locations"
   ]
  },
  {
   "cell_type": "code",
   "execution_count": null,
   "metadata": {
    "collapsed": false
   },
   "outputs": [],
   "source": [
    "%%bash\n",
    "# initialize filesystem on SSD drives\n",
    "sudo mkfs -t ext4 /dev/xvdb\n",
    "sudo mkfs -t ext4 /dev/xvdc\n",
    "\n",
    "# create mount points for SSD drives\n",
    "sudo mkdir -p /mnt/tmp1\n",
    "sudo mkdir -p /mnt/tmp2\n",
    "\n",
    "# mount SSD drives on created points and temporary file locations\n",
    "sudo mount /dev/xvdb /mnt/tmp1\n",
    "sudo mount /dev/xvdc /mnt/tmp2\n",
    "sudo mount /dev/xvdb /tmp\n",
    "sudo mount /dev/xvdc /var/tmp\n",
    "\n",
    "# set permissions for mounted locations\n",
    "sudo chown ubuntu:ubuntu /mnt/tmp1\n",
    "sudo chown ubuntu:ubuntu /mnt/tmp2"
   ]
  },
  {
   "cell_type": "markdown",
   "metadata": {},
   "source": [
    "### Initialize GraphLab Create"
   ]
  },
  {
   "cell_type": "code",
   "execution_count": null,
   "metadata": {
    "collapsed": true
   },
   "outputs": [],
   "source": [
    "# Fill in YOUR_PRODUCT_KEY which you got from Dato; and from your AWS credentials, YOUR_ACCESS_KEY and YOUR_SECRET_KEY \n",
    "import graphlab as gl\n",
    "gl.product_key.set_product_key(\"YOUR_PRODUCT_KEY\")\n",
    "gl.aws.set_credentials(access_key_id='YOUR_ACCESS_KEY', \n",
    "                       secret_access_key='YOUR_SECRET_KEY')"
   ]
  },
  {
   "cell_type": "code",
   "execution_count": null,
   "metadata": {
    "collapsed": true
   },
   "outputs": [],
   "source": [
    "# Set the cache locations to the SSDs.\n",
    "gl.set_runtime_config(\"GRAPHLAB_CACHE_FILE_LOCATIONS\", \"/mnt/tmp1:/mnt/tmp2\")"
   ]
  },
  {
   "cell_type": "markdown",
   "metadata": {},
   "source": [
    "### Run the Benchmark"
   ]
  },
  {
   "cell_type": "code",
   "execution_count": null,
   "metadata": {
    "collapsed": true
   },
   "outputs": [],
   "source": [
    "# Load the CommonCrawl 2012 SGraph\n",
    "s3_sgraph_path = \"s3://dato-datasets-oregon/webgraphs/sgraph/common_crawl_2012_sgraph\"\n",
    "g = gl.load_sgraph(s3_sgraph_path)"
   ]
  },
  {
   "cell_type": "code",
   "execution_count": null,
   "metadata": {
    "collapsed": false
   },
   "outputs": [],
   "source": [
    "# Run PageRank over the SGraph\n",
    "pr = gl.pagerank.create(g)"
   ]
  },
  {
   "cell_type": "markdown",
   "metadata": {},
   "source": [
    "### Review the Results"
   ]
  },
  {
   "cell_type": "code",
   "execution_count": null,
   "metadata": {
    "collapsed": false
   },
   "outputs": [],
   "source": [
    "# Print results\n",
    "print \"Done! Resulting PageRank model:\"\n",
    "print\n",
    "print pr"
   ]
  },
  {
   "cell_type": "code",
   "execution_count": null,
   "metadata": {
    "collapsed": false
   },
   "outputs": [],
   "source": [
    "# Print timings\n",
    "from datetime import timedelta\n",
    "training_time_secs = pr['training_time']\n",
    "print \"Total training time:\", timedelta(seconds=training_time_secs)\n",
    "print \"Avg. time per iteration:\", timedelta(seconds=(training_time_secs / float(pr['num_iterations']))"
   ]
  }
 ],
 "metadata": {
  "kernelspec": {
   "display_name": "Python 2",
   "language": "python",
   "name": "python2"
  },
  "language_info": {
   "codemirror_mode": {
    "name": "ipython",
    "version": 2
   },
   "file_extension": ".py",
   "mimetype": "text/x-python",
   "name": "python",
   "nbconvert_exporter": "python",
   "pygments_lexer": "ipython2",
   "version": "2.7.10"
  }
 },
 "nbformat": 4,
 "nbformat_minor": 0
}
